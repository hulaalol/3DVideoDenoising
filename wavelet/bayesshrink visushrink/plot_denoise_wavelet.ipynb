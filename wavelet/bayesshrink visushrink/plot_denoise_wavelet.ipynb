{
 "cells": [
  {
   "cell_type": "code",
   "execution_count": null,
   "metadata": {},
   "outputs": [],
   "source": [
    "%matplotlib inline"
   ]
  },
  {
   "cell_type": "markdown",
   "metadata": {},
   "source": [
    "\n",
    "# Wavelet denoising\n",
    "\n",
    "\n",
    "Wavelet denoising relies on the wavelet representation of the image.\n",
    "Gaussian noise tends to be represented by small values in the wavelet domain\n",
    "and can be removed by setting coefficients below a given threshold to zero\n",
    "(hard thresholding) or shrinking all coefficients toward zero by a given amount\n",
    "(soft thresholding).\n",
    "\n",
    "In this example, we illustrate two different methods for wavelet coefficient\n",
    "threshold selection:  BayesShrink and VisuShrink.\n",
    "\n",
    "VisuShrink\n",
    "----------\n",
    "The VisuShrink approach employs a single, universal threshold to all wavelet\n",
    "detail coefficients.  This threshold is designed to remove additive Gaussian\n",
    "noise with high probability, which tends to result in overly smooth image\n",
    "appearance.  By specifying a sigma that is smaller than the true noise standard\n",
    "deviation, a more visually agreeable result can be obtained.\n",
    "\n",
    "BayesShrink\n",
    "-----------\n",
    "The BayesShrink algorithm is an adaptive approach to wavelet soft thresholding\n",
    "where a unique threshold is estimated for each wavelet subband.  This generally\n",
    "results in an improvement over what can be obtained with a single threshold.\n"
   ]
  },
  {
   "cell_type": "code",
   "execution_count": 3,
   "metadata": {},
   "outputs": [
    {
     "ename": "ModuleNotFoundError",
     "evalue": "No module named 'skimage.metrics'",
     "output_type": "error",
     "traceback": [
      "\u001b[1;31m---------------------------------------------------------------------------\u001b[0m",
      "\u001b[1;31mModuleNotFoundError\u001b[0m                       Traceback (most recent call last)",
      "\u001b[1;32m<ipython-input-3-ce95c48633e8>\u001b[0m in \u001b[0;36m<module>\u001b[1;34m()\u001b[0m\n\u001b[0;32m      4\u001b[0m \u001b[1;32mfrom\u001b[0m \u001b[0mskimage\u001b[0m \u001b[1;32mimport\u001b[0m \u001b[0mdata\u001b[0m\u001b[1;33m,\u001b[0m \u001b[0mimg_as_float\u001b[0m\u001b[1;33m\u001b[0m\u001b[0m\n\u001b[0;32m      5\u001b[0m \u001b[1;32mfrom\u001b[0m \u001b[0mskimage\u001b[0m\u001b[1;33m.\u001b[0m\u001b[0mutil\u001b[0m \u001b[1;32mimport\u001b[0m \u001b[0mrandom_noise\u001b[0m\u001b[1;33m\u001b[0m\u001b[0m\n\u001b[1;32m----> 6\u001b[1;33m \u001b[1;32mfrom\u001b[0m \u001b[0mskimage\u001b[0m\u001b[1;33m.\u001b[0m\u001b[0mmetrics\u001b[0m \u001b[1;32mimport\u001b[0m \u001b[0mpeak_signal_noise_ratio\u001b[0m\u001b[1;33m\u001b[0m\u001b[0m\n\u001b[0m\u001b[0;32m      7\u001b[0m \u001b[1;33m\u001b[0m\u001b[0m\n\u001b[0;32m      8\u001b[0m \u001b[1;33m\u001b[0m\u001b[0m\n",
      "\u001b[1;31mModuleNotFoundError\u001b[0m: No module named 'skimage.metrics'"
     ]
    }
   ],
   "source": [
    "import matplotlib.pyplot as plt\n",
    "\n",
    "from skimage.restoration import (denoise_wavelet, estimate_sigma)\n",
    "from skimage import data, img_as_float\n",
    "from skimage.util import random_noise\n",
    "from skimage.metrics import peak_signal_noise_ratio\n",
    "\n",
    "\n",
    "original = img_as_float(data.chelsea()[100:250, 50:300])\n",
    "\n",
    "sigma = 0.12\n",
    "#sigma = 0.25\n",
    "noisy = random_noise(original, var=sigma**2)\n",
    "\n",
    "fig, ax = plt.subplots(nrows=2, ncols=3, figsize=(8, 5),\n",
    "                       sharex=True, sharey=True)\n",
    "\n",
    "plt.gray()\n",
    "\n",
    "# Estimate the average noise standard deviation across color channels.\n",
    "sigma_est = estimate_sigma(noisy, multichannel=True, average_sigmas=True)\n",
    "# Due to clipping in random_noise, the estimate will be a bit smaller than the\n",
    "# specified sigma.\n",
    "print(f\"Estimated Gaussian noise standard deviation = {sigma_est}\")\n",
    "\n",
    "im_bayes = denoise_wavelet(noisy, multichannel=True, convert2ycbcr=True,\n",
    "                           method='BayesShrink', mode='soft',\n",
    "                           rescale_sigma=True)\n",
    "im_visushrink = denoise_wavelet(noisy, multichannel=True, convert2ycbcr=True,\n",
    "                                method='VisuShrink', mode='soft',\n",
    "                                sigma=sigma_est, rescale_sigma=True)\n",
    "\n",
    "# VisuShrink is designed to eliminate noise with high probability, but this\n",
    "# results in a visually over-smooth appearance.  Repeat, specifying a reduction\n",
    "# in the threshold by factors of 2 and 4.\n",
    "im_visushrink2 = denoise_wavelet(noisy, multichannel=True, convert2ycbcr=True,\n",
    "                                 method='VisuShrink', mode='soft',\n",
    "                                 sigma=sigma_est/2, rescale_sigma=True)\n",
    "im_visushrink4 = denoise_wavelet(noisy, multichannel=True, convert2ycbcr=True,\n",
    "                                 method='VisuShrink', mode='soft',\n",
    "                                 sigma=sigma_est/4, rescale_sigma=True)\n",
    "\n",
    "# Compute PSNR as an indication of image quality\n",
    "psnr_noisy = peak_signal_noise_ratio(original, noisy)\n",
    "psnr_bayes = peak_signal_noise_ratio(original, im_bayes)\n",
    "psnr_visushrink = peak_signal_noise_ratio(original, im_visushrink)\n",
    "psnr_visushrink2 = peak_signal_noise_ratio(original, im_visushrink2)\n",
    "psnr_visushrink4 = peak_signal_noise_ratio(original, im_visushrink4)\n",
    "\n",
    "ax[0, 0].imshow(noisy)\n",
    "ax[0, 0].axis('off')\n",
    "ax[0, 0].set_title('Noisy\\nPSNR={:0.4g}'.format(psnr_noisy))\n",
    "ax[0, 1].imshow(im_bayes)\n",
    "ax[0, 1].axis('off')\n",
    "ax[0, 1].set_title(\n",
    "    'Wavelet denoising\\n(BayesShrink)\\nPSNR={:0.4g}'.format(psnr_bayes))\n",
    "ax[0, 2].imshow(im_visushrink)\n",
    "ax[0, 2].axis('off')\n",
    "ax[0, 2].set_title(\n",
    "    ('Wavelet denoising\\n(VisuShrink, $\\sigma=\\sigma_{est}$)\\n'\n",
    "     'PSNR=%0.4g' % psnr_visushrink))\n",
    "ax[1, 0].imshow(original)\n",
    "ax[1, 0].axis('off')\n",
    "ax[1, 0].set_title('Original')\n",
    "ax[1, 1].imshow(im_visushrink2)\n",
    "ax[1, 1].axis('off')\n",
    "ax[1, 1].set_title(\n",
    "    ('Wavelet denoising\\n(VisuShrink, $\\sigma=\\sigma_{est}/2$)\\n'\n",
    "     'PSNR=%0.4g' % psnr_visushrink2))\n",
    "ax[1, 2].imshow(im_visushrink4)\n",
    "ax[1, 2].axis('off')\n",
    "ax[1, 2].set_title(\n",
    "    ('Wavelet denoising\\n(VisuShrink, $\\sigma=\\sigma_{est}/4$)\\n'\n",
    "     'PSNR=%0.4g' % psnr_visushrink4))\n",
    "fig.tight_layout()\n",
    "\n",
    "plt.show()"
   ]
  },
  {
   "cell_type": "code",
   "execution_count": 2,
   "metadata": {},
   "outputs": [
    {
     "name": "stdout",
     "output_type": "stream",
     "text": [
      "\n",
      "The following command must be run outside of the IPython shell:\n",
      "\n",
      "    $ pip install skimage\n",
      "\n",
      "The Python package manager (pip) can only be used from outside of IPython.\n",
      "Please reissue the `pip` command in a separate terminal or command prompt.\n",
      "\n",
      "See the Python documentation for more informations on how to install packages:\n",
      "\n",
      "    https://docs.python.org/3/installing/\n"
     ]
    }
   ],
   "source": [
    "pip install skimage"
   ]
  },
  {
   "cell_type": "code",
   "execution_count": null,
   "metadata": {},
   "outputs": [],
   "source": []
  }
 ],
 "metadata": {
  "kernelspec": {
   "display_name": "Python 3",
   "language": "python",
   "name": "python3"
  },
  "language_info": {
   "codemirror_mode": {
    "name": "ipython",
    "version": 3
   },
   "file_extension": ".py",
   "mimetype": "text/x-python",
   "name": "python",
   "nbconvert_exporter": "python",
   "pygments_lexer": "ipython3",
   "version": "3.6.4"
  }
 },
 "nbformat": 4,
 "nbformat_minor": 1
}
